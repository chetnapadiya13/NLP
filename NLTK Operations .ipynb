{
 "cells": [
  {
   "cell_type": "code",
   "execution_count": 1,
   "metadata": {},
   "outputs": [
    {
     "data": {
      "text/plain": [
       "\"\\nNatural Language Processing is manipulation or understanding text or speech by any \\nsoftware or machine. An analogy is that humans interact, understand each other views, and respond with the appropriate answer. In NLP, this interaction, understanding, the response \\nis made by a computer instead of a human.\\n\\nApplication of NLP \\n Sentiment Analysis.\\n Chatbots & Virtual Assistants.\\n Text Classification.\\n Text Extraction.\\n Machine Translation.\\n Text Summarization.\\n Market Intelligence.\\n Auto-Correct.\\n \\n NLP is branch of AI \\n Tools used to make NLP based applications and Text Preprocessing are \\n NLTK\\n Spacy \\n etc.. \\n \\n we are gonna discuss NLP using NLTK\\n \\n What is NLTK?\\nNLTK stands for Natural Language Toolkit. This toolkit is one of the most\\npowerful NLP libraries which contains packages to make machines understand human\\nlanguage and reply to it with an appropriate response. \\nPreprocessing required for NLP is given here \\nTokenization,\\nStemming,\\nLemmatization,\\nPunctuation,\\nCharacter count,\\nword count etc...\\n\\nabove process helps computer to understand what we are trying to communicate with it.\\n\\n*****************************To install NLTK follow given commands *******************************\\nPython 3.7 and above version \\nanaconda will be added advantage \\nPip3 install nltk \\n\\nfor anaconda \\nconda install -c anaconda nltk\\n\\nonce NLTK available it have loads of other modules let's download it \\ngoto python console and \\n\\nimport nltk\\nnltk.download ()\\n\\nonce above command will hit it will open one window \\nNLTK Downloaded Window Opens. Click the Download Button to download the dataset.\\nThis process will take time, based on your internet connection\\n\\n\""
      ]
     },
     "execution_count": 1,
     "metadata": {},
     "output_type": "execute_result"
    }
   ],
   "source": [
    "'''\n",
    "Natural Language Processing is manipulation or understanding text or speech by any \n",
    "software or machine. An analogy is that humans interact, understand each other views, and respond with the appropriate answer. In NLP, this interaction, understanding, the response \n",
    "is made by a computer instead of a human.\n",
    "\n",
    "Application of NLP \n",
    " Sentiment Analysis.\n",
    " Chatbots & Virtual Assistants.\n",
    " Text Classification.\n",
    " Text Extraction.\n",
    " Machine Translation.\n",
    " Text Summarization.\n",
    " Market Intelligence.\n",
    " Auto-Correct.\n",
    " \n",
    " NLP is branch of AI \n",
    " Tools used to make NLP based applications and Text Preprocessing are \n",
    " NLTK\n",
    " Spacy \n",
    " etc.. \n",
    " \n",
    " we are gonna discuss NLP using NLTK\n",
    " \n",
    " What is NLTK?\n",
    "NLTK stands for Natural Language Toolkit. This toolkit is one of the most\n",
    "powerful NLP libraries which contains packages to make machines understand human\n",
    "language and reply to it with an appropriate response. \n",
    "Preprocessing required for NLP is given here \n",
    "Tokenization,\n",
    "Stemming,\n",
    "Lemmatization,\n",
    "Punctuation,\n",
    "Character count,\n",
    "word count etc...\n",
    "\n",
    "above process helps computer to understand what we are trying to communicate with it.\n",
    "\n",
    "*****************************To install NLTK follow given commands *******************************\n",
    "Python 3.7 and above version \n",
    "anaconda will be added advantage \n",
    "Pip3 install nltk \n",
    "\n",
    "for anaconda \n",
    "conda install -c anaconda nltk\n",
    "\n",
    "once NLTK available it have loads of other modules let's download it \n",
    "goto python console and \n",
    "\n",
    "import nltk\n",
    "nltk.download ()\n",
    "\n",
    "once above command will hit it will open one window \n",
    "NLTK Downloaded Window Opens. Click the Download Button to download the dataset.\n",
    "This process will take time, based on your internet connection\n",
    "\n",
    "'''"
   ]
  },
  {
   "cell_type": "code",
   "execution_count": 2,
   "metadata": {},
   "outputs": [
    {
     "data": {
      "text/plain": [
       "['The', 'Fulton', 'County', 'Grand', 'Jury', 'said', ...]"
      ]
     },
     "execution_count": 2,
     "metadata": {},
     "output_type": "execute_result"
    }
   ],
   "source": [
    "#test and installation \n",
    "import nltk\n",
    "from nltk.corpus import brown\n",
    "brown.words()"
   ]
  },
  {
   "cell_type": "code",
   "execution_count": 3,
   "metadata": {},
   "outputs": [
    {
     "name": "stdout",
     "output_type": "stream",
     "text": [
      "['Hello', 'Hello', 'Itvedant', 'ITs', 'fun', 'to', 'learn', 'NLP']\n"
     ]
    }
   ],
   "source": [
    "# Run NLTK script \n",
    "from nltk.tokenize import RegexpTokenizer\n",
    "tokenizer = RegexpTokenizer(r'\\w+')\n",
    "filterdText=tokenizer.tokenize('Hello Hello Itvedant,ITs fun to learn NLP.')\n",
    "print(filterdText)"
   ]
  },
  {
   "cell_type": "code",
   "execution_count": 4,
   "metadata": {},
   "outputs": [
    {
     "data": {
      "text/plain": [
       "'\\nIn this program, the objective was to remove all type of punctuations from given text. We imported \"RegexpTokenizer\" which is a module of NLTK. It removes all the expression, symbol, character, numeric or any things whatever you want.\\nYou just have passed the regular Expression to the \"RegexpTokenizer\" module.\\nFurther, we tokenized the word using \"tokenize\" module. The output is stored in the \"filterdText\" variable.\\nAnd printed them using \"print().\"\\n'"
      ]
     },
     "execution_count": 4,
     "metadata": {},
     "output_type": "execute_result"
    }
   ],
   "source": [
    "'''\n",
    "In this program, the objective was to remove all type of punctuations from given text. We imported \"RegexpTokenizer\" which is a module of NLTK. It removes all the expression, symbol, character, numeric or any things whatever you want.\n",
    "You just have passed the regular Expression to the \"RegexpTokenizer\" module.\n",
    "Further, we tokenized the word using \"tokenize\" module. The output is stored in the \"filterdText\" variable.\n",
    "And printed them using \"print().\"\n",
    "'''"
   ]
  },
  {
   "cell_type": "markdown",
   "metadata": {},
   "source": [
    "# Tokenization "
   ]
  },
  {
   "cell_type": "code",
   "execution_count": 5,
   "metadata": {},
   "outputs": [
    {
     "data": {
      "text/plain": [
       "'\\nTokenization \\n\\nNLP atural language processing is used for building applications such as\\nText classification, intelligent chatbot, sentimental analysis, language translation, etc. \\nIt becomes vital to understand the pattern in the text to achieve the above-stated purpose. \\nThese tokens are very useful for finding such patterns as well as is\\nconsidered as a base step for stemming and lemmatization.\\nNatural Language toolkit has very important module tokenize which further comprises of sub-modules\\n\\nword tokenize\\nsentence tokenize\\n'"
      ]
     },
     "execution_count": 5,
     "metadata": {},
     "output_type": "execute_result"
    }
   ],
   "source": [
    "'''\n",
    "Tokenization \n",
    "\n",
    "NLP atural language processing is used for building applications such as\n",
    "Text classification, intelligent chatbot, sentimental analysis, language translation, etc. \n",
    "It becomes vital to understand the pattern in the text to achieve the above-stated purpose. \n",
    "These tokens are very useful for finding such patterns as well as is\n",
    "considered as a base step for stemming and lemmatization.\n",
    "Natural Language toolkit has very important module tokenize which further comprises of sub-modules\n",
    "\n",
    "word tokenize\n",
    "sentence tokenize\n",
    "'''"
   ]
  },
  {
   "cell_type": "markdown",
   "metadata": {},
   "source": [
    "# word Tokenization "
   ]
  },
  {
   "cell_type": "code",
   "execution_count": 6,
   "metadata": {},
   "outputs": [
    {
     "name": "stdout",
     "output_type": "stream",
     "text": [
      "['God', 'is', 'Great', '!', 'I', 'won', 'a', 'lottery', '.']\n"
     ]
    }
   ],
   "source": [
    "from nltk.tokenize import word_tokenize\n",
    "text = \"God is Great! I won a lottery.\"\n",
    "print(word_tokenize(text))"
   ]
  },
  {
   "cell_type": "code",
   "execution_count": 7,
   "metadata": {},
   "outputs": [
    {
     "data": {
      "text/plain": [
       "'\\nword_tokenize module is imported from the NLTK library.\\nA variable \"text\" is initialized with two sentences.\\nText variable is passed in word_tokenize module and printed the result. \\nThis module breaks each word with punctuation which you can see in the output.'"
      ]
     },
     "execution_count": 7,
     "metadata": {},
     "output_type": "execute_result"
    }
   ],
   "source": [
    "'''\n",
    "word_tokenize module is imported from the NLTK library.\n",
    "A variable \"text\" is initialized with two sentences.\n",
    "Text variable is passed in word_tokenize module and printed the result. \n",
    "This module breaks each word with punctuation which you can see in the output.'''"
   ]
  },
  {
   "cell_type": "markdown",
   "metadata": {},
   "source": [
    "# Sentences Tokenization "
   ]
  },
  {
   "cell_type": "code",
   "execution_count": 8,
   "metadata": {},
   "outputs": [
    {
     "name": "stdout",
     "output_type": "stream",
     "text": [
      "['God is Great!', 'I won a lottery.']\n"
     ]
    }
   ],
   "source": [
    "from nltk.tokenize import sent_tokenize\n",
    "text = \"God is Great! I won a lottery.\"\n",
    "print(sent_tokenize(text))\n",
    "\n",
    "Output: ['God is Great!', 'I won a lottery ']"
   ]
  },
  {
   "cell_type": "code",
   "execution_count": 9,
   "metadata": {},
   "outputs": [
    {
     "data": {
      "text/plain": [
       "'\\nIn a line like the previous program, imported the sent_tokenize module.\\nWe have taken the same sentence. Further sent module parsed that sentences and show output.\\nIt is clear that this function breaks each sentence.'"
      ]
     },
     "execution_count": 9,
     "metadata": {},
     "output_type": "execute_result"
    }
   ],
   "source": [
    "'''\n",
    "In a line like the previous program, imported the sent_tokenize module.\n",
    "We have taken the same sentence. Further sent module parsed that sentences and show output.\n",
    "It is clear that this function breaks each sentence.'''"
   ]
  },
  {
   "cell_type": "markdown",
   "metadata": {},
   "source": [
    "# POS (Part-Of-Speech) Tagging & Chunking with NLTK"
   ]
  },
  {
   "cell_type": "code",
   "execution_count": 10,
   "metadata": {},
   "outputs": [
    {
     "data": {
      "text/plain": [
       "\"\\nPOS Tagging\\nParts of speech Tagging is responsible for reading the text in a language and assigning some specific token (Parts of Speech) to each word.\\n\\ne.g.\\n\\nInput: Everything to permit us.\\n\\nOutput: [('Everything', NN),('to', TO), ('permit', VB), ('us', PRP)]\\n\\nSteps Involved:\\n\\nTokenize text (word_tokenize)\\napply pos_tag to above step that is nltk.pos_tag(tokenize_text)\\nhttps://www.nltk.org/book/ch05.html get tags and detail idea\""
      ]
     },
     "execution_count": 10,
     "metadata": {},
     "output_type": "execute_result"
    }
   ],
   "source": [
    "'''\n",
    "POS Tagging\n",
    "Parts of speech Tagging is responsible for reading the text in a language and assigning some specific token (Parts of Speech) to each word.\n",
    "\n",
    "e.g.\n",
    "\n",
    "Input: Everything to permit us.\n",
    "\n",
    "Output: [('Everything', NN),('to', TO), ('permit', VB), ('us', PRP)]\n",
    "\n",
    "Steps Involved:\n",
    "\n",
    "Tokenize text (word_tokenize)\n",
    "apply pos_tag to above step that is nltk.pos_tag(tokenize_text)\n",
    "https://www.nltk.org/book/ch05.html get tags and detail idea'''"
   ]
  },
  {
   "cell_type": "markdown",
   "metadata": {},
   "source": [
    "# using Tagger "
   ]
  },
  {
   "cell_type": "code",
   "execution_count": 11,
   "metadata": {},
   "outputs": [
    {
     "data": {
      "text/plain": [
       "[('And', 'CC'),\n",
       " ('now', 'RB'),\n",
       " ('for', 'IN'),\n",
       " ('something', 'NN'),\n",
       " ('completely', 'RB'),\n",
       " ('different', 'JJ')]"
      ]
     },
     "execution_count": 11,
     "metadata": {},
     "output_type": "execute_result"
    }
   ],
   "source": [
    "import nltk\n",
    "text = word_tokenize(\"And now for something completely different\")\n",
    "nltk.pos_tag(text)"
   ]
  },
  {
   "cell_type": "code",
   "execution_count": 12,
   "metadata": {},
   "outputs": [
    {
     "data": {
      "text/plain": [
       "\"\\nPOS tagger is used to assign grammatical information of each word of the sentence. \\nInstalling, Importing and downloading all the packages of NLTK is complete.\\nAbbreviation\\tMeaning\\nCC\\tcoordinating conjunction\\nCD\\tcardinal digit\\nDT\\tdeterminer\\nEX\\texistential there\\nFW\\tforeign word\\nIN\\tpreposition/subordinating conjunction\\nJJ\\tadjective (large)\\nJJR\\tadjective, comparative (larger)\\nJJS\\tadjective, superlative (largest)\\nLS\\tlist market\\nMD\\tmodal (could, will)\\nNN\\tnoun, singular (cat, tree)\\nNNS\\tnoun plural (desks)\\nNNP\\tproper noun, singular (sarah)\\nNNPS\\tproper noun, plural (indians or americans)\\nPDT\\tpredeterminer (all, both, half)\\nPOS\\tpossessive ending (parent\\\\ 's)\\nPRP\\tpersonal pronoun (hers, herself, him,himself)\\nPRP$\\tpossessive pronoun (her, his, mine, my, our )\\nRB\\tadverb (occasionally, swiftly)\\nRBR\\tadverb, comparative (greater)\\nRBS\\tadverb, superlative (biggest)\\nRP\\tparticle (about)\\nTO\\tinfinite marker (to)\\nUH\\tinterjection (goodbye)\\nVB\\tverb (ask)\\nVBG\\tverb gerund (judging)\\nVBD\\tverb past tense (pleaded)\\nVBN\\tverb past participle (reunified)\\nVBP\\tverb, present tense not 3rd person singular(wrap)\\nVBZ\\tverb, present tense with 3rd person singular (bases)\\nWDT\\twh-determiner (that, what)\\nWP\\twh- pronoun (who)\\nWRB\\twh- adverb (how)\\n\""
      ]
     },
     "execution_count": 12,
     "metadata": {},
     "output_type": "execute_result"
    }
   ],
   "source": [
    "'''\n",
    "POS tagger is used to assign grammatical information of each word of the sentence. \n",
    "Installing, Importing and downloading all the packages of NLTK is complete.\n",
    "Abbreviation\tMeaning\n",
    "CC\tcoordinating conjunction\n",
    "CD\tcardinal digit\n",
    "DT\tdeterminer\n",
    "EX\texistential there\n",
    "FW\tforeign word\n",
    "IN\tpreposition/subordinating conjunction\n",
    "JJ\tadjective (large)\n",
    "JJR\tadjective, comparative (larger)\n",
    "JJS\tadjective, superlative (largest)\n",
    "LS\tlist market\n",
    "MD\tmodal (could, will)\n",
    "NN\tnoun, singular (cat, tree)\n",
    "NNS\tnoun plural (desks)\n",
    "NNP\tproper noun, singular (sarah)\n",
    "NNPS\tproper noun, plural (indians or americans)\n",
    "PDT\tpredeterminer (all, both, half)\n",
    "POS\tpossessive ending (parent\\ 's)\n",
    "PRP\tpersonal pronoun (hers, herself, him,himself)\n",
    "PRP$\tpossessive pronoun (her, his, mine, my, our )\n",
    "RB\tadverb (occasionally, swiftly)\n",
    "RBR\tadverb, comparative (greater)\n",
    "RBS\tadverb, superlative (biggest)\n",
    "RP\tparticle (about)\n",
    "TO\tinfinite marker (to)\n",
    "UH\tinterjection (goodbye)\n",
    "VB\tverb (ask)\n",
    "VBG\tverb gerund (judging)\n",
    "VBD\tverb past tense (pleaded)\n",
    "VBN\tverb past participle (reunified)\n",
    "VBP\tverb, present tense not 3rd person singular(wrap)\n",
    "VBZ\tverb, present tense with 3rd person singular (bases)\n",
    "WDT\twh-determiner (that, what)\n",
    "WP\twh- pronoun (who)\n",
    "WRB\twh- adverb (how)\n",
    "'''"
   ]
  },
  {
   "cell_type": "markdown",
   "metadata": {},
   "source": [
    "# Chunking "
   ]
  },
  {
   "cell_type": "code",
   "execution_count": 13,
   "metadata": {},
   "outputs": [
    {
     "data": {
      "text/plain": [
       "'\\nChunking\\nChunking is used to add more structure to the sentence by following parts of speech (POS) tagging.\\nIt is also known as shallow parsing. The resulted group of words is called \"chunks.\" \\nIn shallow parsing, there is maximum one level between roots and leaves while deep parsing comprises of more than one level.\\nShallow Parsing is also called light parsing or chunking.\\n\\nThe primary usage of chunking is to make a group of \"noun phrases.\" The parts of speech are combined with regular expressions.\\n'"
      ]
     },
     "execution_count": 13,
     "metadata": {},
     "output_type": "execute_result"
    }
   ],
   "source": [
    "'''\n",
    "Chunking\n",
    "Chunking is used to add more structure to the sentence by following parts of speech (POS) tagging.\n",
    "It is also known as shallow parsing. The resulted group of words is called \"chunks.\" \n",
    "In shallow parsing, there is maximum one level between roots and leaves while deep parsing comprises of more than one level.\n",
    "Shallow Parsing is also called light parsing or chunking.\n",
    "\n",
    "The primary usage of chunking is\n",
    "to make a group of \"noun phrases.\" \n",
    "The parts of speech are combined with \n",
    "regular expressions.\n",
    "'''"
   ]
  },
  {
   "cell_type": "code",
   "execution_count": 14,
   "metadata": {},
   "outputs": [
    {
     "data": {
      "text/plain": [
       "'\\nRules for Chunking:\\n\\nThere are no pre-defined rules, but you can combine them according to need and requirement.\\n\\nFor example, you need to tag Noun, verb (past tense), adjective, and coordinating junction \\nfrom the sentence. You can use the rule as below\\n\\nchunk:{<NN.?>*<VBD.?>*<JJ.?>*<CC>?}\\n\\nFollowing table shows what the various symbol means:\\n\\nName of symbol\\tDescription\\n. Any character except new line\\n* Match 0 or more repetitions\\n? Match 0 or 1 repetitions'"
      ]
     },
     "execution_count": 14,
     "metadata": {},
     "output_type": "execute_result"
    }
   ],
   "source": [
    "'''\n",
    "Rules for Chunking:\n",
    "\n",
    "There are no pre-defined rules, but you can combine\n",
    "them according to need and requirement.\n",
    "\n",
    "For example, you need to tag Noun, verb (past tense), adjective, and coordinating junction \n",
    "from the sentence. You can use the rule as below\n",
    "\n",
    "chunk:{<NN.?>*<VBD.?>*<JJ.?>*<CC>?}\n",
    "\n",
    "Following table shows what the various symbol means:\n",
    "\n",
    "Name of symbol\tDescription\n",
    ". Any character except new line\n",
    "* Match 0 or more repetitions\n",
    "? Match 0 or 1 repetitions'''"
   ]
  },
  {
   "cell_type": "code",
   "execution_count": 15,
   "metadata": {},
   "outputs": [
    {
     "name": "stdout",
     "output_type": "stream",
     "text": [
      "After Split: ['learn', 'Data', 'Science', 'from', 'itvedant', 'and', 'make', 'study', 'easy']\n",
      "After Token: [('learn', 'NN'), ('Data', 'NNP'), ('Science', 'NNP'), ('from', 'IN'), ('itvedant', 'NN'), ('and', 'CC'), ('make', 'VB'), ('study', 'NN'), ('easy', 'JJ')]\n",
      "After Regex: chunk.RegexpParser with 1 stages:\n",
      "RegexpChunkParser with 1 rules:\n",
      "       <ChunkRule: '<NN.?>*<VBD.?>*<JJ.?>*<CC>?'>\n",
      "After Chunking (S\n",
      "  (mychunk learn/NN Data/NNP Science/NNP)\n",
      "  from/IN\n",
      "  (mychunk itvedant/NN and/CC)\n",
      "  make/VB\n",
      "  (mychunk study/NN easy/JJ))\n"
     ]
    }
   ],
   "source": [
    "from nltk import pos_tag\n",
    "from nltk import RegexpParser\n",
    "text =\"learn Data Science from itvedant and make study easy\".split()\n",
    "print(\"After Split:\",text)\n",
    "tokens_tag = pos_tag(text)\n",
    "print(\"After Token:\",tokens_tag)\n",
    "patterns= \"\"\"mychunk:{<NN.?>*<VBD.?>*<JJ.?>*<CC>?}\"\"\"\n",
    "chunker = RegexpParser(patterns)\n",
    "print(\"After Regex:\",chunker)\n",
    "output = chunker.parse(tokens_tag)\n",
    "print(\"After Chunking\",output)"
   ]
  },
  {
   "cell_type": "code",
   "execution_count": 16,
   "metadata": {},
   "outputs": [
    {
     "data": {
      "text/plain": [
       "'\\nThe conclusion from the above example: \"make\" is a verb which is not included in the rule, \\nso it is not tagged as mychunk\\n\\nUse Case of Chunking\\nChunking is used for entity detection. \\nAn entity is that part of the sentence by which machine get the value for any intention\\n\\nExample: \\nTemperature of New York. \\nHere Temperature is the intention and New York is an entity.\\n\\nIn other words, chunking is used as selecting the subsets of tokens.\\nPlease follow the below code to understand how chunking is used to select the tokens. In this example, \\nyou will see the graph which will correspond to a chunk of a noun phrase. \\nWe will write the code and draw the graph for better understanding.\\n'"
      ]
     },
     "execution_count": 16,
     "metadata": {},
     "output_type": "execute_result"
    }
   ],
   "source": [
    "'''\n",
    "The conclusion from the above example:\n",
    "\"make\" is a verb which is not included in the rule, \n",
    "so it is not tagged as mychunk\n",
    "\n",
    "Use Case of Chunking\n",
    "Chunking is used for entity detection. \n",
    "An entity is that part of the sentence by \n",
    "which machine get the value for any intention\n",
    "\n",
    "Example: \n",
    "Temperature of New York. \n",
    "Here Temperature is the intention and New York\n",
    "is an entity.\n",
    "\n",
    "In other words, chunking is used as selecting the subsets of tokens.\n",
    "Please follow the below code to understand how chunking is used to select the tokens. In this example, \n",
    "you will see the graph which will correspond to a chunk of a noun phrase. \n",
    "We will write the code and draw the graph for better understanding.\n",
    "'''"
   ]
  },
  {
   "cell_type": "code",
   "execution_count": 17,
   "metadata": {},
   "outputs": [
    {
     "name": "stdout",
     "output_type": "stream",
     "text": [
      "['learn', 'Data', 'Science', 'from', 'itvedant']\n",
      "[('learn', 'NN'), ('Data', 'NNP'), ('Science', 'NNP'), ('from', 'IN'), ('itvedant', 'NN')]\n",
      "(S (NP learn/NN) Data/NNP Science/NNP from/IN (NP itvedant/NN))\n"
     ]
    }
   ],
   "source": [
    "text = \"learn Data Science from itvedant\"\n",
    "tokens = nltk.word_tokenize(text)\n",
    "print(tokens)\n",
    "tag = nltk.pos_tag(tokens)\n",
    "print(tag)\n",
    "grammar = \"NP: {<DT>?<JJ>*<NN>}\"\n",
    "cp  =nltk.RegexpParser(grammar)\n",
    "result = cp.parse(tag)\n",
    "print(result)"
   ]
  },
  {
   "cell_type": "code",
   "execution_count": 18,
   "metadata": {},
   "outputs": [],
   "source": [
    "# result.draw() # It will draw the pattern graphically which can be seen in Noun Phrase chunking "
   ]
  },
  {
   "cell_type": "code",
   "execution_count": 19,
   "metadata": {},
   "outputs": [
    {
     "data": {
      "text/plain": [
       "'Chunking is used to categorize different tokens into the same chunk. \\nThe result will depend on grammar which has been selected.\\nFurther chunking is used to tag patterns and to explore text corpora.'"
      ]
     },
     "execution_count": 19,
     "metadata": {},
     "output_type": "execute_result"
    }
   ],
   "source": [
    "'''Chunking is used to categorize different tokens\n",
    "into the same chunk. \n",
    "The result will depend on grammar which has been \n",
    "selected.\n",
    "Further chunking is used to tag patterns and\n",
    "to explore text corpora.'''"
   ]
  },
  {
   "cell_type": "markdown",
   "metadata": {},
   "source": [
    "# Stemming"
   ]
  },
  {
   "cell_type": "code",
   "execution_count": 20,
   "metadata": {},
   "outputs": [
    {
     "data": {
      "text/plain": [
       "'Stemming is a kind of normalization for words. Normalization is a technique where a set of words\\nin a sentence are converted into a sequence to shorten its lookup. The words which have the same\\nmeaning but have some variation according to \\nthe context or sentence are normalized.\\nIn another word, there is one root word, but there are many variations of the same words.\\nFor example, the root word is \"eat\" and it\\'s variations are \"eats, eating, eaten and like so\".\\nIn the same way, with the help of Stemming, we can find the root word of any variations.\\n\\nFor example \\nHe was riding.\\nHe was taking the ride.\\n\\nIn the above two sentences, the meaning is the same, i.e., riding activity in the past. \\nA human can easily understand that both meanings are the same. \\nBut for machines, both sentences are different. Thus it became hard to convert it into the same data row. In case we do not provide the same data-set, \\nthen machine fails to predict. So it is necessary to differentiate the meaning of each word to prepare the dataset for machine learning.\\nAnd here stemming is used to categorize the same type of data by getting its root word.\\n\\nNLTK has an algorithm named as \"PorterStemmer\".\\nThis algorithm accepts the list of tokenized word and stems it into root word.\\n'"
      ]
     },
     "execution_count": 20,
     "metadata": {},
     "output_type": "execute_result"
    }
   ],
   "source": [
    "'''Stemming is a kind of normalization for words.\n",
    "Normalization is a technique where a set of words\n",
    "in a sentence are converted into a sequence to \n",
    "shorten its lookup. The words which have the same\n",
    "meaning but have some variation according to \n",
    "the context or sentence are normalized.\n",
    "In another word, there is one root word, \n",
    "but there are many variations of the same words.\n",
    "For example, the root word is \"eat\" and \n",
    "it's variations are \"eats, eating, eaten and \n",
    "like so\".\n",
    "In the same way, with the help of Stemming,\n",
    "we can find the root word of any variations.\n",
    "\n",
    "For example \n",
    "He was riding.\n",
    "He was taking the ride.\n",
    "\n",
    "In the above two sentences, the meaning is the same, i.e., riding activity in the past. \n",
    "A human can easily understand that both meanings are the same. \n",
    "But for machines, both sentences are different. Thus it became hard to convert it into the same data row. In case we do not provide the same data-set, \n",
    "then machine fails to predict. So it is necessary to differentiate the meaning of each word to prepare the dataset for machine learning.\n",
    "And here stemming is used to categorize the same type of data by getting its root word.\n",
    "\n",
    "NLTK has an algorithm named as \"PorterStemmer\".\n",
    "This algorithm accepts the list of tokenized word and stems it into root word.\n",
    "'''"
   ]
  },
  {
   "cell_type": "code",
   "execution_count": 21,
   "metadata": {},
   "outputs": [
    {
     "name": "stdout",
     "output_type": "stream",
     "text": [
      "wait\n",
      "wait\n",
      "wait\n",
      "wait\n"
     ]
    }
   ],
   "source": [
    "from nltk.stem import PorterStemmer\n",
    "e_words= [\"wait\", \"waiting\", \"waited\", \"waits\"]\n",
    "ps =PorterStemmer()\n",
    "for w in e_words:\n",
    "    rootWord=ps.stem(w)\n",
    "    print(rootWord)"
   ]
  },
  {
   "cell_type": "code",
   "execution_count": 22,
   "metadata": {},
   "outputs": [
    {
     "name": "stdout",
     "output_type": "stream",
     "text": [
      "hello\n",
      "itved\n",
      ",\n",
      "you\n",
      "have\n",
      "to\n",
      "build\n",
      "a\n",
      "veri\n",
      "good\n",
      "site\n",
      "and\n",
      "I\n",
      "love\n",
      "visit\n",
      "your\n",
      "site\n",
      ".\n"
     ]
    }
   ],
   "source": [
    "from nltk.stem import PorterStemmer\n",
    "from nltk.tokenize import sent_tokenize, word_tokenize\n",
    "sentence=\"Hello itvedant, You have to build a very good site and I love visiting your site.\"\n",
    "words = word_tokenize(sentence)\n",
    "ps = PorterStemmer()\n",
    "for w in words:\n",
    "    rootWord=ps.stem(w)\n",
    "    print(rootWord)"
   ]
  },
  {
   "cell_type": "markdown",
   "metadata": {},
   "source": [
    "# Lemmatization"
   ]
  },
  {
   "cell_type": "code",
   "execution_count": 23,
   "metadata": {},
   "outputs": [
    {
     "data": {
      "text/plain": [
       "\"\\nLemmatization is the algorithmic process of finding the lemma of a word depending on their meaning.\\nLemmatization usually refers to the morphological analysis of words, which aims to remove inflectional endings.\\nIt helps in returning the base or dictionary form of a word, which is known as the lemma.\\nThe NLTK Lemmatization method is based on WorldNet's built-in morph function.\\nText preprocessing includes both stemming as well as lemmatization. Many people find the two terms confusing. \\nSome treat these as same, but there is a difference between these both.\\nLemmatization is preferred over the former because of the below reason.\\n\\nStemming algorithm works by cutting the suffix from the word. \\nIn a broader sense cuts either the beginning or end of the word.\""
      ]
     },
     "execution_count": 23,
     "metadata": {},
     "output_type": "execute_result"
    }
   ],
   "source": [
    "'''\n",
    "Lemmatization is the algorithmic process of finding the lemma of a word depending on their meaning.\n",
    "Lemmatization usually refers to the morphological analysis of words, which aims to remove inflectional endings.\n",
    "It helps in returning the base or dictionary form of a word, which is known as the lemma.\n",
    "The NLTK Lemmatization method is based on WorldNet's built-in morph function.\n",
    "Text preprocessing includes both stemming as well as lemmatization. Many people find the two terms confusing. \n",
    "Some treat these as same, but there is a difference between these both.\n",
    "Lemmatization is preferred over the former because of the below reason.\n",
    "\n",
    "Stemming algorithm works by cutting the suffix from the word. \n",
    "In a broader sense cuts either the beginning or end of the word.'''"
   ]
  },
  {
   "cell_type": "code",
   "execution_count": 25,
   "metadata": {},
   "outputs": [
    {
     "name": "stdout",
     "output_type": "stream",
     "text": [
      "Stemming for studies is studi\n",
      "Stemming for studying is studi\n",
      "Stemming for cries is cri\n",
      "Stemming for cry is cri\n"
     ]
    }
   ],
   "source": [
    "from nltk.stem.porter import PorterStemmer\n",
    "porter_stemmer  = PorterStemmer()\n",
    "text = \"studies studying cries cry\"\n",
    "tokenization = nltk.word_tokenize(text)\n",
    "for w in tokenization:\n",
    "    print(\"Stemming for {} is {}\".format(w,porter_stemmer.stem(w)))  "
   ]
  },
  {
   "cell_type": "code",
   "execution_count": 26,
   "metadata": {},
   "outputs": [
    {
     "name": "stdout",
     "output_type": "stream",
     "text": [
      "Lemma for studies is study\n",
      "Lemma for studying is studying\n",
      "Lemma for cries is cry\n",
      "Lemma for cry is cry\n"
     ]
    }
   ],
   "source": [
    "from nltk.stem import WordNetLemmatizer\n",
    "wordnet_lemmatizer = WordNetLemmatizer()\n",
    "text = \"studies studying cries cry\"\n",
    "tokenization = nltk.word_tokenize(text)\n",
    "for w in tokenization:\n",
    "    print(\"Lemma for {} is {}\".format(w, wordnet_lemmatizer.lemmatize(w)))  "
   ]
  },
  {
   "cell_type": "markdown",
   "metadata": {},
   "source": [
    "# Real Time example showing use of Wordnet Lemmatization and POS Tagging in Python"
   ]
  },
  {
   "cell_type": "code",
   "execution_count": 27,
   "metadata": {},
   "outputs": [
    {
     "name": "stdout",
     "output_type": "stream",
     "text": [
      "Data => Data\n",
      "Science => Science\n",
      "is => be\n",
      "a => a\n",
      "totally => totally\n",
      "new => new\n",
      "kind => kind\n",
      "of => of\n",
      "learning => learn\n",
      "experience => experience\n",
      ". => .\n"
     ]
    }
   ],
   "source": [
    "from nltk.corpus import wordnet as wn\n",
    "from nltk.stem.wordnet import WordNetLemmatizer\n",
    "from nltk import word_tokenize, pos_tag\n",
    "from collections import defaultdict\n",
    "tag_map = defaultdict(lambda : wn.NOUN)\n",
    "tag_map['J'] = wn.ADJ\n",
    "tag_map['V'] = wn.VERB\n",
    "tag_map['R'] = wn.ADV\n",
    "\n",
    "text = \"Data Science is a totally new kind of learning experience.\"\n",
    "tokens = word_tokenize(text)\n",
    "lemma_function = WordNetLemmatizer()\n",
    "for token, tag in pos_tag(tokens):\n",
    "    lemma = lemma_function.lemmatize(token, tag_map[tag[0]])\n",
    "    print(token, \"=>\", lemma)"
   ]
  },
  {
   "cell_type": "markdown",
   "metadata": {},
   "source": [
    "# wordnet "
   ]
  },
  {
   "cell_type": "code",
   "execution_count": 28,
   "metadata": {},
   "outputs": [
    {
     "data": {
      "text/plain": [
       "'Wordnet is an NLTK corpus reader, a lexical database for English. It can be used to find the meaning of words,\\nsynonym or antonym. One can define it as a semantically oriented dictionary of English.\\nIt is imported with the following command:'"
      ]
     },
     "execution_count": 28,
     "metadata": {},
     "output_type": "execute_result"
    }
   ],
   "source": [
    "'''Wordnet is an NLTK corpus reader, a lexical database for English. It can be used to find the meaning of words,\n",
    "synonym or antonym. One can define it as a semantically oriented dictionary of English.\n",
    "It is imported with the following command:'''"
   ]
  },
  {
   "cell_type": "code",
   "execution_count": 29,
   "metadata": {},
   "outputs": [],
   "source": [
    "from nltk.corpus import wordnet as w"
   ]
  },
  {
   "cell_type": "code",
   "execution_count": 30,
   "metadata": {},
   "outputs": [
    {
     "data": {
      "text/plain": [
       "'stats reveal that there are 155287 words and 117659 synonym sets included with English WordNet.\\n\\nDifferent methods available with WordNet can be found by typing dir'"
      ]
     },
     "execution_count": 30,
     "metadata": {},
     "output_type": "execute_result"
    }
   ],
   "source": [
    "'''stats reveal that there are 155287 words and 117659 synonym sets included with English WordNet.\n",
    "\n",
    "Different methods available with WordNet can be found by typing dir'''"
   ]
  },
  {
   "cell_type": "code",
   "execution_count": 31,
   "metadata": {},
   "outputs": [
    {
     "data": {
      "text/plain": [
       "['ADJ',\n",
       " 'ADJ_SAT',\n",
       " 'ADV',\n",
       " 'MORPHOLOGICAL_SUBSTITUTIONS',\n",
       " 'NOUN',\n",
       " 'VERB',\n",
       " '_ENCODING',\n",
       " '_FILEMAP',\n",
       " '_FILES',\n",
       " '__class__',\n",
       " '__delattr__',\n",
       " '__dict__',\n",
       " '__dir__',\n",
       " '__doc__',\n",
       " '__eq__',\n",
       " '__format__',\n",
       " '__ge__',\n",
       " '__getattribute__',\n",
       " '__gt__',\n",
       " '__hash__',\n",
       " '__init__',\n",
       " '__init_subclass__',\n",
       " '__le__',\n",
       " '__lt__',\n",
       " '__module__',\n",
       " '__ne__',\n",
       " '__new__',\n",
       " '__reduce__',\n",
       " '__reduce_ex__',\n",
       " '__repr__',\n",
       " '__setattr__',\n",
       " '__sizeof__',\n",
       " '__str__',\n",
       " '__subclasshook__',\n",
       " '__unicode__',\n",
       " '__weakref__',\n",
       " '_compute_max_depth',\n",
       " '_data_file',\n",
       " '_data_file_map',\n",
       " '_encoding',\n",
       " '_exception_map',\n",
       " '_fileids',\n",
       " '_get_root',\n",
       " '_key_count_file',\n",
       " '_key_synset_file',\n",
       " '_lang_data',\n",
       " '_lemma_pos_offset_map',\n",
       " '_lexnames',\n",
       " '_load_exception_map',\n",
       " '_load_lang_data',\n",
       " '_load_lemma_pos_offset_map',\n",
       " '_max_depth',\n",
       " '_morphy',\n",
       " '_omw_reader',\n",
       " '_pos_names',\n",
       " '_pos_numbers',\n",
       " '_root',\n",
       " '_synset_from_pos_and_line',\n",
       " '_synset_from_pos_and_offset',\n",
       " '_synset_offset_cache',\n",
       " '_tagset',\n",
       " '_unload',\n",
       " 'abspath',\n",
       " 'abspaths',\n",
       " 'all_lemma_names',\n",
       " 'all_synsets',\n",
       " 'citation',\n",
       " 'custom_lemmas',\n",
       " 'encoding',\n",
       " 'ensure_loaded',\n",
       " 'fileids',\n",
       " 'get_version',\n",
       " 'ic',\n",
       " 'jcn_similarity',\n",
       " 'langs',\n",
       " 'lch_similarity',\n",
       " 'lemma',\n",
       " 'lemma_count',\n",
       " 'lemma_from_key',\n",
       " 'lemmas',\n",
       " 'license',\n",
       " 'lin_similarity',\n",
       " 'morphy',\n",
       " 'of2ss',\n",
       " 'open',\n",
       " 'path_similarity',\n",
       " 'readme',\n",
       " 'res_similarity',\n",
       " 'root',\n",
       " 'ss2of',\n",
       " 'synset',\n",
       " 'synset_from_pos_and_offset',\n",
       " 'synset_from_sense_key',\n",
       " 'synsets',\n",
       " 'unicode_repr',\n",
       " 'words',\n",
       " 'wup_similarity']"
      ]
     },
     "execution_count": 31,
     "metadata": {},
     "output_type": "execute_result"
    }
   ],
   "source": [
    "dir(w)"
   ]
  },
  {
   "cell_type": "code",
   "execution_count": 32,
   "metadata": {},
   "outputs": [
    {
     "data": {
      "text/plain": [
       "'\\nLet us understand some of the features available with the wordnet:\\n\\nSynset: It is also called as synonym set or collection of synonym words. Let us check a example\\n'"
      ]
     },
     "execution_count": 32,
     "metadata": {},
     "output_type": "execute_result"
    }
   ],
   "source": [
    "'''\n",
    "Let us understand some of the features available with the wordnet:\n",
    "\n",
    "Synset: It is also called as synonym set or collection of synonym words. Let us check a example\n",
    "'''"
   ]
  },
  {
   "cell_type": "code",
   "execution_count": 33,
   "metadata": {},
   "outputs": [
    {
     "name": "stdout",
     "output_type": "stream",
     "text": [
      "[Synset('dog.n.01'), Synset('frump.n.01'), Synset('dog.n.03'), Synset('cad.n.01'), Synset('frank.n.02'), Synset('pawl.n.01'), Synset('andiron.n.01'), Synset('chase.v.01')]\n"
     ]
    }
   ],
   "source": [
    "from nltk.corpus import wordnet\n",
    "syns = wordnet.synsets(\"dog\")\n",
    "print(syns)"
   ]
  },
  {
   "cell_type": "code",
   "execution_count": 35,
   "metadata": {},
   "outputs": [
    {
     "data": {
      "text/plain": [
       "'\\nLexical Relations: These are semantic relations which are reciprocated.\\nIf there is a relationship between {x1,x2,...xn} and {y1,y2,...yn} then there is also relation between {y1,y2,...yn} and {x1,x2,...xn}. \\nFor example Synonym is the opposite of antonym or hypernyms and hyponym are type of lexical concept.'"
      ]
     },
     "execution_count": 35,
     "metadata": {},
     "output_type": "execute_result"
    }
   ],
   "source": [
    "'''\n",
    "Lexical Relations: These are semantic relations which are reciprocated.\n",
    "If there is a relationship between {x1,x2,...xn} and {y1,y2,...yn} then there is also relation between {y1,y2,...yn} and {x1,x2,...xn}. \n",
    "For example Synonym is the opposite of antonym or hypernyms and hyponym are type of lexical concept.'''"
   ]
  },
  {
   "cell_type": "code",
   "execution_count": 37,
   "metadata": {},
   "outputs": [
    {
     "name": "stdout",
     "output_type": "stream",
     "text": [
      "{'active', 'active_agent'}\n",
      "set()\n",
      "{'active_voice', 'active', 'active_agent'}\n",
      "{'passive_voice'}\n",
      "{'active_voice', 'active', 'active_agent'}\n",
      "{'passive_voice'}\n",
      "{'active_voice', 'active', 'active_agent'}\n",
      "{'passive_voice', 'inactive'}\n",
      "{'active_voice', 'fighting', 'combat-ready', 'active', 'active_agent'}\n",
      "{'passive_voice', 'inactive'}\n",
      "{'active_voice', 'fighting', 'combat-ready', 'active', 'active_agent'}\n",
      "{'passive_voice', 'inactive', 'passive'}\n",
      "{'active_voice', 'fighting', 'combat-ready', 'active', 'participating', 'active_agent'}\n",
      "{'passive_voice', 'inactive', 'passive'}\n",
      "{'active_voice', 'fighting', 'combat-ready', 'active', 'participating', 'active_agent'}\n",
      "{'passive_voice', 'inactive', 'passive'}\n",
      "{'active_voice', 'fighting', 'combat-ready', 'active', 'participating', 'active_agent'}\n",
      "{'passive_voice', 'inactive', 'passive'}\n",
      "{'active_voice', 'fighting', 'combat-ready', 'active', 'participating', 'active_agent'}\n",
      "{'passive_voice', 'inactive', 'passive'}\n",
      "{'active_voice', 'fighting', 'combat-ready', 'alive', 'active', 'participating', 'active_agent'}\n",
      "{'passive_voice', 'inactive', 'passive'}\n",
      "{'active_voice', 'fighting', 'combat-ready', 'alive', 'active', 'participating', 'active_agent'}\n",
      "{'quiet', 'passive_voice', 'inactive', 'passive'}\n",
      "{'active_voice', 'fighting', 'combat-ready', 'alive', 'active', 'participating', 'active_agent'}\n",
      "{'quiet', 'passive_voice', 'inactive', 'passive'}\n",
      "{'active_voice', 'fighting', 'combat-ready', 'dynamic', 'alive', 'active', 'participating', 'active_agent'}\n",
      "{'passive_voice', 'stative', 'inactive', 'quiet', 'passive'}\n",
      "{'active_voice', 'fighting', 'combat-ready', 'dynamic', 'alive', 'active', 'participating', 'active_agent'}\n",
      "{'extinct', 'passive_voice', 'stative', 'inactive', 'quiet', 'passive'}\n",
      "{'active_voice', 'fighting', 'combat-ready', 'dynamic', 'alive', 'active', 'participating', 'active_agent'}\n",
      "{'extinct', 'passive_voice', 'stative', 'inactive', 'quiet', 'dormant', 'passive'}\n",
      "{'active_voice', 'fighting', 'combat-ready', 'dynamic', 'alive', 'active', 'participating', 'active_agent'}\n",
      "{'extinct', 'passive_voice', 'stative', 'inactive', 'quiet', 'dormant', 'passive'}\n"
     ]
    }
   ],
   "source": [
    "#Let us write a program using python to find synonym and antonym of word \"active\" using Wordnet.\n",
    "from nltk.corpus import wordnet\n",
    "synonyms = []\n",
    "antonyms = []\n",
    "\n",
    "for syn in wordnet.synsets(\"active\"):\n",
    "    for l in syn.lemmas():\n",
    "        synonyms.append(l.name())\n",
    "        if l.antonyms():\n",
    "            antonyms.append(l.antonyms()[0].name())\n",
    "    print(set(synonyms))\n",
    "    print(set(antonyms))"
   ]
  },
  {
   "cell_type": "code",
   "execution_count": null,
   "metadata": {},
   "outputs": [],
   "source": [
    "'''\n",
    "Wordnet is a corpus, so it is imported from the ntlk.corpus\n",
    "List of both synonym and antonym is taken as empty which will be used for appending\n",
    "Synonyms of the word active are searched in the module synsets and are appended in the list synonyms.\n",
    "The same process is repeated for the second one.\n",
    "Output is printed '''"
   ]
  },
  {
   "cell_type": "markdown",
   "metadata": {},
   "source": [
    "# Tagging "
   ]
  },
  {
   "cell_type": "code",
   "execution_count": null,
   "metadata": {},
   "outputs": [],
   "source": [
    "'''\n",
    "Tagging Sentence in a broader sense refers to the addition of labels of the verb,\n",
    "noun,etc.by the context of the sentence. Identification of POS tags is a complicated process.\n",
    "Thus generic tagging of POS is manually not possible as some words may have different (ambiguous) meanings according to \n",
    "the structure of the sentence. Conversion of text in the form of list is an important step before tagging as each word in \n",
    "the list is looped and counted for a particular tag. \n",
    "Please see the below code to understand it better'''"
   ]
  },
  {
   "cell_type": "code",
   "execution_count": 38,
   "metadata": {},
   "outputs": [
    {
     "name": "stdout",
     "output_type": "stream",
     "text": [
      "[('Hello', 'NNP'), ('Itvedant', 'NNP'), (',', ','), ('You', 'PRP'), ('have', 'VBP'), ('to', 'TO'), ('build', 'VB'), ('a', 'DT'), ('very', 'RB'), ('good', 'JJ'), ('site', 'NN'), (',', ','), ('and', 'CC'), ('I', 'PRP'), ('love', 'VBP'), ('visiting', 'VBG'), ('your', 'PRP$'), ('site', 'NN'), ('.', '.')]\n"
     ]
    }
   ],
   "source": [
    "text = \"Hello Itvedant, You have to build a very good site, and I love visiting your   site.\"\n",
    "sentence = nltk.sent_tokenize(text)\n",
    "for sent in sentence:\n",
    "\t print(nltk.pos_tag(nltk.word_tokenize(sent)))"
   ]
  },
  {
   "cell_type": "code",
   "execution_count": null,
   "metadata": {},
   "outputs": [],
   "source": [
    "'''\n",
    "Code Explanation\n",
    "\n",
    "Code to import nltk (Natural language toolkit which contains submodules such as sentence tokenize and word tokenize.)\n",
    "Text whose tags are to be printed.\n",
    "Sentence Tokenization\n",
    "For loop is implemented where words are tokenized from sentence and tag of each word is printed as output.\n",
    "In Corpus there are two types of POS taggers:\n",
    "\n",
    "Rule-Based :rules of grammer applied \n",
    "Stochastic POS Taggers : FREQUANCY AND PROBABILITY APPLIED \n",
    "'''"
   ]
  },
  {
   "cell_type": "markdown",
   "metadata": {},
   "source": [
    "# Counting POS Tags"
   ]
  },
  {
   "cell_type": "code",
   "execution_count": null,
   "metadata": {},
   "outputs": [],
   "source": [
    "'''\n",
    "you will study how to count these tags. \n",
    "Counting tags are crucial for text classification \n",
    "as well as \n",
    "preparing the features for the Natural \n",
    "language-based operations\n",
    "'''"
   ]
  },
  {
   "cell_type": "code",
   "execution_count": 43,
   "metadata": {},
   "outputs": [
    {
     "name": "stdout",
     "output_type": "stream",
     "text": [
      "counts =>  Counter({'NN': 5, 'NNS': 2, ',': 2, 'VBZ': 1, 'CD': 1, 'IN': 1, 'DT': 1, 'JJS': 1, 'TO': 1, 'VB': 1, 'CC': 1, 'RB': 1, 'JJR': 1, '.': 1})\n",
      "Tags =>  [('itvedant', 'NN'), ('is', 'VBZ'), ('one', 'CD'), ('of', 'IN'), ('the', 'DT'), ('best', 'JJS'), ('sites', 'NNS'), ('to', 'TO'), ('learn', 'VB'), ('data', 'NNS'), ('science', 'NN'), (',', ','), ('php', 'NN'), (',', ','), ('java', 'NN'), ('and', 'CC'), ('much', 'RB'), ('more', 'JJR'), ('online', 'NN'), ('.', '.')]\n"
     ]
    }
   ],
   "source": [
    "from collections import Counter\n",
    "import nltk\n",
    "text = \" Itvedant is one of the best sites to learn Data Science,PHP,Java and much more online.\"\n",
    "lower_case = text.lower()\n",
    "tokens = nltk.word_tokenize(lower_case)\n",
    "tags = nltk.pos_tag(tokens)\n",
    "counts = Counter( tag for word,  tag in tags)\n",
    "print(\"counts => \",counts)\n",
    "print(\"Tags => \",tags)"
   ]
  },
  {
   "cell_type": "code",
   "execution_count": null,
   "metadata": {},
   "outputs": [],
   "source": [
    "'''\n",
    "To count the tags, you can use the package Counter from the collection's module. \n",
    "A counter is a dictionary subclass which works on the principle of key-value operation.\n",
    "It is an unordered collection where elements are stored as a dictionary key while the count is their value.\n",
    "Import nltk which contains modules to tokenize the text.\n",
    "Write the text whose pos_tag you want to count.\n",
    "Some words are in upper case and some in lower case, so it is appropriate to transform all the words in\n",
    "the lower case before applying tokenization.\n",
    "Pass the words through word_tokenize from nltk.\n",
    "Calculate the pos_tag of each token'''"
   ]
  },
  {
   "cell_type": "markdown",
   "metadata": {},
   "source": [
    "# Frequency Distribution"
   ]
  },
  {
   "cell_type": "code",
   "execution_count": null,
   "metadata": {},
   "outputs": [],
   "source": [
    "'''\n",
    "Frequency Distribution is referred to as the number of times an outcome of an experiment occurs. \n",
    "It is used to find the frequency of each word occurring in a document. It uses FreqDistclass and defined by the nltk.\n",
    "probabilty module.\n",
    "\n",
    "A frequency distribution is usually created by counting the samples of repeatedly running the experiment.\n",
    "The no of counts is incremented by one, each time. E.g.\n",
    "\n",
    "freq_dist = FreqDist()\n",
    "\n",
    "for the token in the document:\n",
    "\n",
    "freq_dist.inc(token.type())\n",
    "\n",
    "For any word, we can check how many times it occurred in a particular document. E.g.\n",
    "\n",
    "Count Method: freq_dist.count('and')This expression returns the value of the number of times 'and' occurred. \n",
    "    It is called the count method.\n",
    "    \n",
    "Frequency Method: freq_dist.freq('and')This the expression returns frequency of a given sample.'''"
   ]
  },
  {
   "cell_type": "code",
   "execution_count": 45,
   "metadata": {},
   "outputs": [
    {
     "data": {
      "image/png": "[encoded data removed]",
      "text/plain": [
       "<Figure size 432x288 with 1 Axes>"
      ]
     },
     "metadata": {
      "needs_background": "light"
     },
     "output_type": "display_data"
    },
    {
     "data": {
      "text/plain": [
       "<matplotlib.axes._subplots.AxesSubplot at 0x2502f2e4ac8>"
      ]
     },
     "execution_count": 45,
     "metadata": {},
     "output_type": "execute_result"
    }
   ],
   "source": [
    "a = \"Itvedant is the site where you can find the best tutorials for Software development Tutorial, Data Science Course for Beginners. Java Tutorial for Beginners and much more. Please visit the site www.itvedant.com and much more.\"\n",
    "words = nltk.tokenize.word_tokenize(a)\n",
    "fd = nltk.FreqDist(words)\n",
    "fd.plot()"
   ]
  },
  {
   "cell_type": "code",
   "execution_count": null,
   "metadata": {},
   "outputs": [],
   "source": [
    "'''Explanation of code:\n",
    "\n",
    "Import nltk module.\n",
    "Write the text whose word distribution you need to find.\n",
    "Tokenize each word in the text which is served as input to FreqDist module of the nltk.\n",
    "Apply each word to nlk.FreqDist in the form of a list\n",
    "Plot the words in the graph using plot() '''\n",
    "\n",
    "'''\n",
    "Observe the graph above. It corresponds to counting the occurrence of each word in the text.\n",
    "It helps in the study of text and further in implementing text-based sentimental analysis. \n",
    "In a nutshell, it can be concluded that nltk has a module for counting the occurrence of \n",
    "each word in the text which helps in preparing the stats of natural language features.\n",
    "It plays a significant role in finding the keywords in the text. '''\n",
    "\n",
    "Note :- \n",
    "    Counting each word may not be much useful. Instead one should focus on collocation \n",
    "    and bigrams which deals with a lot of words in a pair. These pairs identify useful\n",
    "    keywords to better natural language \n",
    "    features which can be fed to the machine. Please look below for their details.\n"
   ]
  },
  {
   "cell_type": "markdown",
   "metadata": {},
   "source": [
    "# Collocations: Bigrams and Trigrams"
   ]
  },
  {
   "cell_type": "code",
   "execution_count": null,
   "metadata": {},
   "outputs": [],
   "source": [
    "\n",
    "What is Collocations?\n",
    "Collocations are the pairs of words occurring together many times in a document. \n",
    "It is calculated by the number of those pair occurring together to the overall word count of\n",
    "the document.\n",
    "\n",
    "Example :- \n",
    "Consider electromagnetic spectrum with words like ultraviolet rays, infrared rays.\n",
    "The words ultraviolet and rays are not used individually and hence can be treated as \n",
    "Collocation. Another example is the CT Scan.\n",
    "We don't say CT and Scan separately, and hence they are also treated as collocation.\n",
    "\n",
    "********************************************************\n",
    "\n",
    "We can say that finding collocations requires calculating the frequencies of words and their appearance \n",
    "in the context of other\n",
    "words. These specific collections of words require filtering to retain useful content terms. \n",
    "Each gram of words may then be scored according to some association measure, to determine the relative likelihood of each Ingram being a collocation.\n",
    "\n",
    "Collocation can be categorized into 3 types types-\n",
    "\n",
    "Bigrams combination of two words\n",
    "Trigrams combination of three words\n",
    "ngrams combination of more than 3 words\n",
    "\n",
    "Bigrams and Trigrams provide more meaningful and useful features for the feature extraction \n",
    "stage. \n",
    "\n",
    "These are especially useful in text-based sentimental analysis.\n"
   ]
  },
  {
   "cell_type": "markdown",
   "metadata": {},
   "source": [
    "# Bigrams Combination of two words"
   ]
  },
  {
   "cell_type": "code",
   "execution_count": 47,
   "metadata": {},
   "outputs": [
    {
     "name": "stdout",
     "output_type": "stream",
     "text": [
      "[('Itvedant', 'is'), ('is', 'a'), ('a', 'totally'), ('totally', 'new'), ('new', 'kind'), ('kind', 'of'), ('of', 'learning'), ('learning', 'experience'), ('experience', '.')]\n"
     ]
    }
   ],
   "source": [
    "text = \"Itvedant is a totally new kind of learning experience.\"\n",
    "Tokens = nltk.word_tokenize(text)\n",
    "output = list(nltk.bigrams(Tokens))\n",
    "print(output)"
   ]
  },
  {
   "cell_type": "markdown",
   "metadata": {},
   "source": [
    "# Trigrams Combination of three words"
   ]
  },
  {
   "cell_type": "code",
   "execution_count": 50,
   "metadata": {},
   "outputs": [
    {
     "name": "stdout",
     "output_type": "stream",
     "text": [
      "[('Itvedant', 'is', 'a'), ('is', 'a', 'totally'), ('a', 'totally', 'new'), ('totally', 'new', 'kind'), ('new', 'kind', 'of'), ('kind', 'of', 'learning'), ('of', 'learning', 'experience'), ('learning', 'experience', '.')]\n"
     ]
    }
   ],
   "source": [
    "text = \"Itvedant is a totally new kind of learning experience.\"\n",
    "Tokens = nltk.word_tokenize(text)\n",
    "output = list(nltk.trigrams(Tokens))\n",
    "print(output)"
   ]
  },
  {
   "cell_type": "code",
   "execution_count": 2,
   "metadata": {},
   "outputs": [
    {
     "data": {
      "text/html": [
       "<div>\n",
       "<style scoped>\n",
       "    .dataframe tbody tr th:only-of-type {\n",
       "        vertical-align: middle;\n",
       "    }\n",
       "\n",
       "    .dataframe tbody tr th {\n",
       "        vertical-align: top;\n",
       "    }\n",
       "\n",
       "    .dataframe thead th {\n",
       "        text-align: right;\n",
       "    }\n",
       "</style>\n",
       "<table border=\"1\" class=\"dataframe\">\n",
       "  <thead>\n",
       "    <tr style=\"text-align: right;\">\n",
       "      <th></th>\n",
       "      <th>good movie</th>\n",
       "      <th>like</th>\n",
       "      <th>movie</th>\n",
       "      <th>not</th>\n",
       "    </tr>\n",
       "  </thead>\n",
       "  <tbody>\n",
       "    <tr>\n",
       "      <td>0</td>\n",
       "      <td>0.707107</td>\n",
       "      <td>0.000000</td>\n",
       "      <td>0.707107</td>\n",
       "      <td>0.000000</td>\n",
       "    </tr>\n",
       "    <tr>\n",
       "      <td>1</td>\n",
       "      <td>0.577350</td>\n",
       "      <td>0.000000</td>\n",
       "      <td>0.577350</td>\n",
       "      <td>0.577350</td>\n",
       "    </tr>\n",
       "    <tr>\n",
       "      <td>2</td>\n",
       "      <td>0.000000</td>\n",
       "      <td>0.707107</td>\n",
       "      <td>0.000000</td>\n",
       "      <td>0.707107</td>\n",
       "    </tr>\n",
       "    <tr>\n",
       "      <td>3</td>\n",
       "      <td>0.000000</td>\n",
       "      <td>1.000000</td>\n",
       "      <td>0.000000</td>\n",
       "      <td>0.000000</td>\n",
       "    </tr>\n",
       "    <tr>\n",
       "      <td>4</td>\n",
       "      <td>0.000000</td>\n",
       "      <td>0.000000</td>\n",
       "      <td>0.000000</td>\n",
       "      <td>0.000000</td>\n",
       "    </tr>\n",
       "  </tbody>\n",
       "</table>\n",
       "</div>"
      ],
      "text/plain": [
       "   good movie      like     movie       not\n",
       "0    0.707107  0.000000  0.707107  0.000000\n",
       "1    0.577350  0.000000  0.577350  0.577350\n",
       "2    0.000000  0.707107  0.000000  0.707107\n",
       "3    0.000000  1.000000  0.000000  0.000000\n",
       "4    0.000000  0.000000  0.000000  0.000000"
      ]
     },
     "execution_count": 2,
     "metadata": {},
     "output_type": "execute_result"
    }
   ],
   "source": [
    "from sklearn.feature_extraction.text import TfidfVectorizer\n",
    "import pandas as pd\n",
    "texts = [\"good movie\",\"not a good movie\", \"did not like\",\n",
    "        \"i like it\",\"good one\"]\n",
    "tfidf = TfidfVectorizer(min_df=2,max_df=0.5,ngram_range=(1,2))\n",
    "\n",
    "features = tfidf.fit_transform(texts)\n",
    "pd.DataFrame(features.todense(),columns=tfidf.get_feature_names())\n"
   ]
  },
  {
   "cell_type": "code",
   "execution_count": null,
   "metadata": {},
   "outputs": [],
   "source": [
    "'''https://www.kaggle.com/sudalairajkumar/getting-started-with-text-preprocessing'''"
   ]
  }
 ],
 "metadata": {
  "kernelspec": {
   "display_name": "Python 3",
   "language": "python",
   "name": "python3"
  },
  "language_info": {
   "codemirror_mode": {
    "name": "ipython",
    "version": 3
   },
   "file_extension": ".py",
   "mimetype": "text/x-python",
   "name": "python",
   "nbconvert_exporter": "python",
   "pygments_lexer": "ipython3",
   "version": "3.7.4"
  }
 },
 "nbformat": 4,
 "nbformat_minor": 2
}
